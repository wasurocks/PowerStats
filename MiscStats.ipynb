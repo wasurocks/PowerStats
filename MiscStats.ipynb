{
  "nbformat": 4,
  "nbformat_minor": 0,
  "metadata": {
    "colab": {
      "name": "MiscStats.ipynb",
      "provenance": [],
      "authorship_tag": "ABX9TyOMMHzhzZWTAX/m6k6ROgKO",
      "include_colab_link": true
    },
    "kernelspec": {
      "name": "python3",
      "display_name": "Python 3"
    },
    "language_info": {
      "name": "python"
    }
  },
  "cells": [
    {
      "cell_type": "markdown",
      "metadata": {
        "id": "view-in-github",
        "colab_type": "text"
      },
      "source": [
        "<a href=\"https://colab.research.google.com/github/wasurocks/PowerStats/blob/main/MiscStats.ipynb\" target=\"_parent\"><img src=\"https://colab.research.google.com/assets/colab-badge.svg\" alt=\"Open In Colab\"/></a>"
      ]
    },
    {
      "cell_type": "code",
      "metadata": {
        "id": "Qg9svehdEc5I"
      },
      "source": [
        "# import libraries\n",
        "import math\n",
        "import scipy.stats as st\n",
        "#69.5, 67.3, 73.5, 71.3, 70, 69.4, 69.5, 66.2, 71.4, 73.4, 63.3, 68.8, 69.9, 71.3, 72.5, 62.3, 63.5, 66.6, 64.5, 66.6, 60.9, 63.5, 66.4, 73.4, 77.1, 75.3, 70.1, 69.4, 65.7, 68.5, "
      ],
      "execution_count": null,
      "outputs": []
    },
    {
      "cell_type": "code",
      "metadata": {
        "colab": {
          "base_uri": "https://localhost:8080/"
        },
        "id": "9m2d0Lg9P1gj",
        "outputId": "8c0815af-222c-40af-e6ac-ddf5b2b1a20b"
      },
      "source": [
        "# quick stats\n",
        "data = [69.9, 70.8, 70.2, 69.8, 68.8, 66.4, 65.5, 64.4, 63.6, 63.3]\n",
        "n = len(data)\n",
        "mean = sum(data)/n\n",
        "s_variance = (1/(n - 1)) * (sum([k ** 2 for k in data]) - (n * (mean ** 2)))\n",
        "s_stdev = math.sqrt(s_variance)\n",
        "\n",
        "print(n)\n",
        "print('x_bar:',round(mean, 6),'sample_sd:', round(s_stdev, 6), 'sample_variance:', round(s_variance, 6))"
      ],
      "execution_count": null,
      "outputs": [
        {
          "output_type": "stream",
          "text": [
            "10\n",
            "x_bar: 67.27 sample_sd: 2.945071 sample_variance: 8.673444\n"
          ],
          "name": "stdout"
        }
      ]
    },
    {
      "cell_type": "code",
      "metadata": {
        "colab": {
          "base_uri": "https://localhost:8080/"
        },
        "id": "QIFtULggENrM",
        "outputId": "ef5609e2-76e3-47fd-c49c-35fffabd4ee8"
      },
      "source": [
        "# z-value => get area from z-value\n",
        "z = 2.68\n",
        "area = round(st.norm.cdf(z), 4);\n",
        "print(\"area:\",area, \"1-area:\", round(1-area,4))"
      ],
      "execution_count": null,
      "outputs": [
        {
          "output_type": "stream",
          "text": [
            "area: 0.9963 1-area: 0.0037\n"
          ],
          "name": "stdout"
        }
      ]
    },
    {
      "cell_type": "code",
      "metadata": {
        "colab": {
          "base_uri": "https://localhost:8080/"
        },
        "id": "O6RPyiEQEOH2",
        "outputId": "eb9b0112-6c8c-425d-88f7-67c3b6592bc4"
      },
      "source": [
        "# z-value => get z-value from area\n",
        "area = 0.05\n",
        "z = round(st.norm.ppf(area)*-1, 4);\n",
        "print(\"z:\",z)"
      ],
      "execution_count": null,
      "outputs": [
        {
          "output_type": "stream",
          "text": [
            "z: 1.6449\n"
          ],
          "name": "stdout"
        }
      ]
    },
    {
      "cell_type": "code",
      "metadata": {
        "colab": {
          "base_uri": "https://localhost:8080/"
        },
        "id": "1Jp87tyrBezH",
        "outputId": "9694f6d5-36c2-4990-a10e-a840a6d053e8"
      },
      "source": [
        "# t-value => get area from t-value\n",
        "alpha = 0.325\n",
        "df = 1\n",
        "area = round(st.t.cdf(alpha, df), 4);\n",
        "print(\"area:\",area, \"1-area:\", round(1-area,4))"
      ],
      "execution_count": null,
      "outputs": [
        {
          "output_type": "stream",
          "text": [
            "area: 0.6 1-area: 0.4\n"
          ],
          "name": "stdout"
        }
      ]
    },
    {
      "cell_type": "code",
      "metadata": {
        "colab": {
          "base_uri": "https://localhost:8080/"
        },
        "id": "LXau0eQKEab2",
        "outputId": "fb7ed0df-64e5-43df-f15e-9d3ae32e378d"
      },
      "source": [
        "# t-value => get t-value from area\n",
        "area = 0.025\n",
        "df = 9\n",
        "alpha = round(st.t.ppf(area, df) * -1, 4);\n",
        "print(\"alpha:\",alpha)"
      ],
      "execution_count": null,
      "outputs": [
        {
          "output_type": "stream",
          "text": [
            "alpha: 2.2622\n"
          ],
          "name": "stdout"
        }
      ]
    }
  ]
}