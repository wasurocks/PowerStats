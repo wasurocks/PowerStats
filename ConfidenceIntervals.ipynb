{
  "nbformat": 4,
  "nbformat_minor": 0,
  "metadata": {
    "colab": {
      "name": "ConfidenceIntervals.ipynb",
      "provenance": [],
      "collapsed_sections": [
        "zbg_989lSrdW",
        "ZS1u0SYuCY2C"
      ],
      "authorship_tag": "ABX9TyMVv5ag5wNU243FboOt9v6S",
      "include_colab_link": true
    },
    "kernelspec": {
      "name": "python3",
      "display_name": "Python 3"
    },
    "language_info": {
      "name": "python"
    }
  },
  "cells": [
    {
      "cell_type": "markdown",
      "metadata": {
        "id": "view-in-github",
        "colab_type": "text"
      },
      "source": [
        "<a href=\"https://colab.research.google.com/github/wasurocks/PowerStats/blob/main/ConfidenceIntervals.ipynb\" target=\"_parent\"><img src=\"https://colab.research.google.com/assets/colab-badge.svg\" alt=\"Open In Colab\"/></a>"
      ]
    },
    {
      "cell_type": "markdown",
      "metadata": {
        "id": "zbg_989lSrdW"
      },
      "source": [
        "####**Imports**"
      ]
    },
    {
      "cell_type": "code",
      "metadata": {
        "id": "hRHuC2GnC_uB"
      },
      "source": [
        "# Import libraries\n",
        "import math\n",
        "import scipy.stats as st"
      ],
      "execution_count": null,
      "outputs": []
    },
    {
      "cell_type": "markdown",
      "metadata": {
        "id": "ZS1u0SYuCY2C"
      },
      "source": [
        "####**Mean of Normal Distribution w/ Known Variance OR Any Distribution w/ Large Sample (n>40) (Z-dist)**"
      ]
    },
    {
      "cell_type": "code",
      "metadata": {
        "id": "WPtovA6BA8o8"
      },
      "source": [
        "# Raw information (PASTE HERE)\n",
        "x_bar = 68.345\n",
        "st_dev = 3.7603\n",
        "alpha = 0.05\n",
        "n = 40"
      ],
      "execution_count": null,
      "outputs": []
    },
    {
      "cell_type": "markdown",
      "metadata": {
        "id": "hw0Pg-bOF8JD"
      },
      "source": [
        "Two-sided Interval Estimate"
      ]
    },
    {
      "cell_type": "code",
      "metadata": {
        "colab": {
          "base_uri": "https://localhost:8080/"
        },
        "id": "UtbaetvqB8qp",
        "outputId": "ab8d5ee7-f55a-4672-9908-b82e7ab27ce9"
      },
      "source": [
        "z = round(st.norm.ppf(alpha/2) * -1, 3);\n",
        "confidence_variance = abs((st_dev/math.sqrt(n)) * z)\n",
        "x_bar_l = round(x_bar - confidence_variance, 4)\n",
        "x_bar_u = round(x_bar + confidence_variance, 4)\n",
        "print(\"α/2:\", alpha/2, \"=> z:\", z)\n",
        "print(\"Confidence variance:\", round(confidence_variance, 4))\n",
        "print(\"∴ μ for \" + str((1-alpha)*100) + \"% C.I. is in [\" + str(x_bar_l) + \",\" + str(x_bar_u) + \"]\")"
      ],
      "execution_count": null,
      "outputs": [
        {
          "output_type": "stream",
          "text": [
            "α/2: 0.025 => z: 1.96\n",
            "Confidence variance: 1.1653\n",
            "∴ μ for 95.0% C.I. is in [67.1797,69.5103]\n"
          ],
          "name": "stdout"
        }
      ]
    },
    {
      "cell_type": "markdown",
      "metadata": {
        "id": "RqvW-F4NGC6S"
      },
      "source": [
        "One-sided Interval Estimate (Upper Confidence Bound)"
      ]
    },
    {
      "cell_type": "code",
      "metadata": {
        "colab": {
          "base_uri": "https://localhost:8080/"
        },
        "id": "rbMdDaH-GCfc",
        "outputId": "e14b6379-eb6e-47c0-ffe3-1a43af97071f"
      },
      "source": [
        "z = round(st.norm.ppf(alpha) * -1, 3);\n",
        "confidence_variance = abs((st_dev/math.sqrt(n)) * z)\n",
        "x_bar_u = round(x_bar + confidence_variance, 4)\n",
        "print(\"α:\", alpha, \"=> z:\", z)\n",
        "print(\"Confidence variance:\", round(confidence_variance, 4))\n",
        "print(\"∴ μ for \" + str((1-alpha)*100) + \"% C.I. is in [-∞,\" + str(x_bar_u) + \"]\")"
      ],
      "execution_count": null,
      "outputs": [
        {
          "output_type": "stream",
          "text": [
            "α: 0.02 => z: 2.054\n",
            "Confidence variance: 0.4413\n",
            "∴ μ for 98.0% C.I. is in [-∞,7.9413]\n"
          ],
          "name": "stdout"
        }
      ]
    },
    {
      "cell_type": "markdown",
      "metadata": {
        "id": "vDlcAuA6JXcF"
      },
      "source": [
        "One-sided Interval Estimate (Lower Confidence Bound)"
      ]
    },
    {
      "cell_type": "code",
      "metadata": {
        "colab": {
          "base_uri": "https://localhost:8080/"
        },
        "id": "R0OC4Nr-Kgvw",
        "outputId": "196fa0fc-1546-40f2-db6e-e73677121df4"
      },
      "source": [
        "z = round(st.norm.ppf(alpha) * -1, 3);\n",
        "confidence_variance = abs((st_dev/math.sqrt(n)) * z)\n",
        "x_bar_l = round(x_bar - confidence_variance, 4)\n",
        "print(\"α:\", alpha, \"=> z:\", z)\n",
        "print(\"Confidence variance:\", round(confidence_variance, 4))\n",
        "print(\"∴ μ for \" + str((1-alpha)*100) + \"% C.I. is in [\" + str(x_bar_l) + \",∞]\")"
      ],
      "execution_count": null,
      "outputs": [
        {
          "output_type": "stream",
          "text": [
            "α: 0.02 => z: 2.054\n",
            "Confidence variance: 0.4413\n",
            "∴ μ for 98.0% C.I. is in [7.0587,∞]\n"
          ],
          "name": "stdout"
        }
      ]
    },
    {
      "cell_type": "markdown",
      "metadata": {
        "id": "MEs7LUSrLFKr"
      },
      "source": [
        "####**Mean of Normal Distribution w/ Unknown Variance (T-dist)**"
      ]
    },
    {
      "cell_type": "code",
      "metadata": {
        "id": "56zFrJnsLBu7"
      },
      "source": [
        "# Raw information (PASTE HERE)\n",
        "x_bar = 67.27\n",
        "s_st_dev = 2.9451\n",
        "alpha = 0.05\n",
        "n = 10\n",
        "df = n - 1 # degree of freedom, can change here"
      ],
      "execution_count": null,
      "outputs": []
    },
    {
      "cell_type": "markdown",
      "metadata": {
        "id": "A0lONt0vLc9u"
      },
      "source": [
        "Two-sided Interval Estimate"
      ]
    },
    {
      "cell_type": "code",
      "metadata": {
        "colab": {
          "base_uri": "https://localhost:8080/"
        },
        "id": "uYb7OhUXLhai",
        "outputId": "7d8b3963-3442-46e1-b26f-669f025f2cff"
      },
      "source": [
        "t = round(st.t.ppf(alpha/2, df) * -1, 3);\n",
        "confidence_variance = abs((s_st_dev/math.sqrt(n)) * t)\n",
        "x_bar_l = round(x_bar - confidence_variance, 4)\n",
        "x_bar_u = round(x_bar + confidence_variance, 4)\n",
        "print(\"α/2:\", str(alpha/2) + \", df:\",df,\"=> t:\", t)\n",
        "print(\"Confidence variance:\", round(confidence_variance, 4))\n",
        "print(\"∴ μ for \" + str((1-alpha)*100) + \"% C.I. is in [\" + str(x_bar_l) + \",\" + str(x_bar_u) + \"]\")"
      ],
      "execution_count": null,
      "outputs": [
        {
          "output_type": "stream",
          "text": [
            "α/2: 0.025, df: 9 => t: 2.262\n",
            "Confidence variance: 2.1067\n",
            "∴ μ for 95.0% C.I. is in [65.1633,69.3767]\n"
          ],
          "name": "stdout"
        }
      ]
    },
    {
      "cell_type": "markdown",
      "metadata": {
        "id": "fSz9OKFrQGUh"
      },
      "source": [
        "One-sided Interval Estimate (Upper Confidence Bound)"
      ]
    },
    {
      "cell_type": "code",
      "metadata": {
        "colab": {
          "base_uri": "https://localhost:8080/"
        },
        "id": "nj0l9T0rOvFp",
        "outputId": "5a868bf6-2341-4cea-b4db-62344b5c6555"
      },
      "source": [
        "t = round(st.t.ppf(alpha, df) * -1, 3);\n",
        "confidence_variance = abs((s_st_dev/math.sqrt(n)) * t)\n",
        "x_bar_u = round(x_bar + confidence_variance, 4)\n",
        "print(\"α:\", str(alpha) + \", df:\",df,\"=> t:\", t)\n",
        "print(\"Confidence variance:\", round(confidence_variance, 4))\n",
        "print(\"∴ μ for \" + str((1-alpha)*100) + \"% C.I. is in [-∞,\" + str(x_bar_u) + \"]\")"
      ],
      "execution_count": null,
      "outputs": [
        {
          "output_type": "stream",
          "text": [
            "α: 0.05, df: 21 => t: 1.721\n",
            "Confidence variance: 1.3026\n",
            "∴ μ for 95.0% C.I. is in [-∞,15.0126]\n"
          ],
          "name": "stdout"
        }
      ]
    },
    {
      "cell_type": "markdown",
      "metadata": {
        "id": "VBgfvUuFQOWa"
      },
      "source": [
        "One-sided Interval Estimate (Lower Confidence Bound)"
      ]
    },
    {
      "cell_type": "code",
      "metadata": {
        "colab": {
          "base_uri": "https://localhost:8080/"
        },
        "id": "sjKvK1IkP7lj",
        "outputId": "786114b0-00a3-4f21-b107-a5724bd30ec8"
      },
      "source": [
        "t = round(st.t.ppf(alpha, df) * -1, 3);\n",
        "confidence_variance = abs((s_st_dev/math.sqrt(n)) * t)\n",
        "x_bar_l = round(x_bar - confidence_variance, 4)\n",
        "print(\"α:\", str(alpha) + \", df:\",df,\"=> t:\", t)\n",
        "print(\"Confidence variance:\", round(confidence_variance, 4))\n",
        "print(\"∴ μ for \" + str((1-alpha)*100) + \"% C.I. is in [\" + str(x_bar_l) + \",∞]\")"
      ],
      "execution_count": null,
      "outputs": [
        {
          "output_type": "stream",
          "text": [
            "α: 0.05, df: 21 => t: 1.721\n",
            "Confidence variance: 1.3026\n",
            "∴ μ for 95.0% C.I. is in [12.4074,∞]\n"
          ],
          "name": "stdout"
        }
      ]
    },
    {
      "cell_type": "markdown",
      "metadata": {
        "id": "MA2_i4avRM18"
      },
      "source": [
        "####**Variance/SD of Normal Distribution (Chi2-dist)**"
      ]
    },
    {
      "cell_type": "code",
      "metadata": {
        "id": "pZvmsDFOSkl2"
      },
      "source": [
        "# Raw information (PASTE HERE)\n",
        "s_variance = 841.6667 # IMPORTANT => IF USING SD YOU HAVE TO SQUARE IT\n",
        "alpha = 0.05\n",
        "n = 100\n",
        "df = n - 1 # degree of freedom, can change here"
      ],
      "execution_count": null,
      "outputs": []
    },
    {
      "cell_type": "markdown",
      "metadata": {
        "id": "eM140oXJTNfq"
      },
      "source": [
        "Two-sided Interval Estimate"
      ]
    },
    {
      "cell_type": "code",
      "metadata": {
        "colab": {
          "base_uri": "https://localhost:8080/"
        },
        "id": "qJ6mtUzqTQdM",
        "outputId": "f82e8e3f-efe5-4be1-f7a5-d441fb853765"
      },
      "source": [
        "chi_1_minus_alpha_div_2 = round(st.chi2.ppf(alpha/2, df), 3)\n",
        "chi_alpha_div_2 = round(st.chi2.ppf(1 - (alpha/2), df), 3)\n",
        "var_l = round(((n-1)*(s_variance)/chi_alpha_div_2), 4)\n",
        "var_u = round(((n-1)*(s_variance)/chi_1_minus_alpha_div_2), 4)\n",
        "std_l = round(math.sqrt(((n-1)*(s_variance)/chi_alpha_div_2)), 4)\n",
        "std_u = round(math.sqrt(((n-1)*(s_variance)/chi_1_minus_alpha_div_2)), 4)\n",
        "print(\"α/2:\", str(alpha/2) + \", df:\",df,\"=> chi(alpha/2):\", chi_alpha_div_2, \"and chi(1 - (alpha/2)):\", chi_1_minus_alpha_div_2)\n",
        "print(\"∴ σ^2 (variance) for \" + str((1-alpha)*100) + \"% C.I. is in [\" + str(var_l) + \",\" + str(var_u) + \"]\")\n",
        "print(\"∴ σ (S.D.) for \" + str((1-alpha)*100) + \"% C.I. is in [\" + str(std_l) + \",\" + str(std_u) + \"]\")"
      ],
      "execution_count": null,
      "outputs": [
        {
          "output_type": "stream",
          "text": [
            "α/2: 0.025, df: 99 => chi(alpha/2): 128.422 and chi(1 - (alpha/2)): 73.361\n",
            "∴ σ^2 (variance) for 95.0% C.I. is in [648.8375,1135.8215]\n",
            "∴ σ (S.D.) for 95.0% C.I. is in [25.4723,33.702]\n"
          ],
          "name": "stdout"
        }
      ]
    },
    {
      "cell_type": "markdown",
      "metadata": {
        "id": "ckMrKST_TQNw"
      },
      "source": [
        "One-sided Interval Estimate (Upper Confidence Bound)"
      ]
    },
    {
      "cell_type": "code",
      "metadata": {
        "colab": {
          "base_uri": "https://localhost:8080/"
        },
        "id": "BvPpkiehTN1C",
        "outputId": "9a86b5c1-7133-4bcf-8d81-2f6a0cc9c398"
      },
      "source": [
        "chi_1_minus_alpha = round(st.chi2.ppf(alpha, df), 3)\n",
        "var_u = round(((n-1)*(s_variance)/chi_1_minus_alpha), 4)\n",
        "std_u = round(math.sqrt(((n-1)*(s_variance)/chi_1_minus_alpha)), 4)\n",
        "print(\"α:\", str(alpha) + \", df:\",df,\"=> chi(1 - (alpha)):\", chi_1_minus_alpha)\n",
        "print(\"∴ σ^2 (variance) for \" + str((1-alpha)*100) + \"% C.I. is in [-∞,\" + str(var_u) + \"]\")\n",
        "print(\"∴ σ (S.D.) for \" + str((1-alpha)*100) + \"% C.I. is in [-∞,\" + str(std_u) + \"]\")"
      ],
      "execution_count": null,
      "outputs": [
        {
          "output_type": "stream",
          "text": [
            "α: 0.05, df: 19 => chi(1 - (alpha)): 10.117\n",
            "∴ σ^2 (variance) for 95.0% C.I. is in [-∞,0.0287]\n",
            "∴ σ (S.D.) for 95.0% C.I. is in [-∞,0.1695]\n"
          ],
          "name": "stdout"
        }
      ]
    },
    {
      "cell_type": "markdown",
      "metadata": {
        "id": "pl2UM9E8TOfe"
      },
      "source": [
        "One-sided Interval Estimate (Lower Confidence Bound)"
      ]
    },
    {
      "cell_type": "code",
      "metadata": {
        "colab": {
          "base_uri": "https://localhost:8080/"
        },
        "id": "tKxq9vy-TKmD",
        "outputId": "f2a0446d-f67f-4828-fef2-0bda07b3aeae"
      },
      "source": [
        "chi_alpha = round(st.chi2.ppf(1 - (alpha), df), 3)\n",
        "var_l = round(((n-1)*(s_variance)/chi_alpha), 4)\n",
        "std_l = round(math.sqrt(((n-1)*(s_variance)/chi_alpha)), 4)\n",
        "print(\"α:\", str(alpha) + \", df:\",df,\"=> chi(alpha):\", chi_alpha)\n",
        "print(\"∴ σ^2 (variance) for \" + str((1-alpha)*100) + \"% C.I. is in [\" + str(var_l) + \",∞]\")\n",
        "print(\"∴ σ (S.D.) for \" + str((1-alpha)*100) + \"% C.I. is in [\" + str(std_l) + \",∞]\")"
      ],
      "execution_count": null,
      "outputs": [
        {
          "output_type": "stream",
          "text": [
            "α: 0.05, df: 19 => chi(alpha): 30.144\n",
            "∴ σ^2 (variance) for 95.0% C.I. is in [0.0096,∞]\n",
            "∴ σ (S.D.) for 95.0% C.I. is in [0.0982,∞]\n"
          ],
          "name": "stdout"
        }
      ]
    },
    {
      "cell_type": "markdown",
      "metadata": {
        "id": "joxSofnzEjTX"
      },
      "source": [
        "####**Mean of Binomial (Z-dist)**"
      ]
    },
    {
      "cell_type": "code",
      "metadata": {
        "id": "iBtzdnlnEr6Q"
      },
      "source": [
        ""
      ],
      "execution_count": null,
      "outputs": []
    }
  ]
}